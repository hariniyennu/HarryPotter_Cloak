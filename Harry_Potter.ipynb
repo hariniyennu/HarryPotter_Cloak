{
 "cells": [
  {
   "cell_type": "code",
   "execution_count": 1,
   "id": "7996b5a2-d710-4b83-bd51-2431fd44bd53",
   "metadata": {},
   "outputs": [],
   "source": [
    "import cv2"
   ]
  },
  {
   "cell_type": "code",
   "execution_count": 2,
   "id": "40ed7ab5-7428-4816-a55e-7d5d0f4b72f1",
   "metadata": {},
   "outputs": [],
   "source": [
    "import time"
   ]
  },
  {
   "cell_type": "code",
   "execution_count": 3,
   "id": "3aa5a619-5d4e-4c4f-a117-47e70c7f47bb",
   "metadata": {},
   "outputs": [],
   "source": [
    "import numpy as np"
   ]
  },
  {
   "cell_type": "code",
   "execution_count": 4,
   "id": "5b5f942e-11bd-44c4-879a-d100f83d09ad",
   "metadata": {},
   "outputs": [],
   "source": [
    "cap=cv2.VideoCapture(0)\n",
    "time.sleep(2)"
   ]
  },
  {
   "cell_type": "code",
   "execution_count": 5,
   "id": "0c164845-d443-493f-8ca9-3f1eefd815ae",
   "metadata": {},
   "outputs": [],
   "source": [
    "# A static background is needed to replace the cloak area.This captures 60 frames to stabilize the background capture.\n",
    "for i in range(60):\n",
    "    ret,background=cap.read()"
   ]
  },
  {
   "cell_type": "code",
   "execution_count": 6,
   "id": "e34a5b8d-f796-4bcf-a502-a857ef591b90",
   "metadata": {},
   "outputs": [],
   "source": [
    "background=cv2.flip(background,1)"
   ]
  },
  {
   "cell_type": "code",
   "execution_count": 7,
   "id": "c1e3f1e6-d4f7-4ddc-80a8-d6a5f3326407",
   "metadata": {},
   "outputs": [],
   "source": [
    "lower_red1=np.array([0, 120, 70])\n",
    "upper_red1=np.array([10, 255, 255])\n",
    "lower_red2=np.array([170, 120, 70])\n",
    "upper_red2=np.array([180, 255, 255])"
   ]
  },
  {
   "cell_type": "code",
   "execution_count": 8,
   "id": "045e4447-32ec-4c37-8754-94ca16f74c16",
   "metadata": {},
   "outputs": [],
   "source": [
    "while True:\n",
    "    ret,frame=cap.read()\n",
    "    if not ret:\n",
    "        break\n",
    "    frame=cv2.flip(frame,1)\n",
    "    hsv=cv2.cvtColor(frame,cv2.COLOR_BGR2HSV)\n",
    "    mask1=cv2.inRange(hsv,lower_red1,upper_red1)\n",
    "    mask2=cv2.inRange(hsv,lower_red2,upper_red2)\n",
    "    mask=mask1+mask2\n",
    "    mask=cv2.morphologyEx(mask,cv2.MORPH_OPEN, np.ones((3,3),np.uint8))\n",
    "    mask=cv2.dilate(mask,np.ones((3,3),np.uint8))\n",
    "    mask_inv=cv2.bitwise_not(mask)\n",
    "    res1=cv2.bitwise_and(background,background,mask=mask)\n",
    "    res2=cv2.bitwise_and(frame,frame,mask=mask_inv)\n",
    "    final=cv2.addWeighted(res1,1,res2,1,0)\n",
    "    cv2.imshow(\"Invisible Cloak!\",final)\n",
    "    if cv2.waitKey(1)&0xFF==ord('q'):\n",
    "        break"
   ]
  },
  {
   "cell_type": "code",
   "execution_count": 9,
   "id": "13611d4a-432b-41fd-b647-dce17d59152a",
   "metadata": {},
   "outputs": [],
   "source": [
    "cap.release()\n",
    "cv2.destroyAllWindows()"
   ]
  }
 ],
 "metadata": {
  "kernelspec": {
   "display_name": "Python 3 (ipykernel)",
   "language": "python",
   "name": "python3"
  },
  "language_info": {
   "codemirror_mode": {
    "name": "ipython",
    "version": 3
   },
   "file_extension": ".py",
   "mimetype": "text/x-python",
   "name": "python",
   "nbconvert_exporter": "python",
   "pygments_lexer": "ipython3",
   "version": "3.11.7"
  }
 },
 "nbformat": 4,
 "nbformat_minor": 5
}
